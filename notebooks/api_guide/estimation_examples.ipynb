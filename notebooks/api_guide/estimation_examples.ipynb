{
 "cells": [
  {
   "cell_type": "code",
   "execution_count": null,
   "metadata": {},
   "outputs": [],
   "source": [
    "!pip install filterpy"
   ]
  },
  {
   "cell_type": "code",
   "execution_count": 1,
   "metadata": {},
   "outputs": [],
   "source": [
    "import cusignal\n",
    "import cupy as cp # CuPy version 8.0.0b4+ required\n",
    "import numpy as np\n",
    "import filterpy.kalman"
   ]
  },
  {
   "cell_type": "markdown",
   "metadata": {},
   "source": [
    "### Filter Size and Parameters"
   ]
  },
  {
   "cell_type": "code",
   "execution_count": 2,
   "metadata": {},
   "outputs": [],
   "source": [
    "dim_x = 4\n",
    "dim_z = 2\n",
    "iterations = 10\n",
    "tracks = 32\n",
    "dt = np.float64"
   ]
  },
  {
   "cell_type": "markdown",
   "metadata": {},
   "source": [
    "### State Transition Matrix"
   ]
  },
  {
   "cell_type": "code",
   "execution_count": 3,
   "metadata": {},
   "outputs": [],
   "source": [
    "F = np.array(\n",
    "        [\n",
    "            [1.0, 0.0, 1.0, 0.0],  # x = x0 + v_x*dt\n",
    "            [0.0, 1.0, 0.0, 1.0],  # y = y0 + v_y*dt\n",
    "            [0.0, 0.0, 1.0, 0.0],  # dx = v_x\n",
    "            [1.0, 0.0, 0.0, 1.0],\n",
    "        ],  # dy = v_y\n",
    "        dtype=dt,\n",
    "    )"
   ]
  },
  {
   "cell_type": "markdown",
   "metadata": {},
   "source": [
    "### Measurement Function"
   ]
  },
  {
   "cell_type": "code",
   "execution_count": 4,
   "metadata": {},
   "outputs": [],
   "source": [
    "H = np.array(\n",
    "        [\n",
    "            [1.0, 0.0, 1.0, 0.0], \n",
    "            [0.0, 1.0, 0.0, 1.0]\n",
    "        ],\n",
    "        dtype=dt,  # x_0  # y_0\n",
    "    )"
   ]
  },
  {
   "cell_type": "markdown",
   "metadata": {},
   "source": [
    "### Initial Location"
   ]
  },
  {
   "cell_type": "code",
   "execution_count": 5,
   "metadata": {},
   "outputs": [],
   "source": [
    "x = np.array([[10.0, 10.0, 0.0, 0.0]], dtype=dt).T  # x, y, v_x, v_y"
   ]
  },
  {
   "cell_type": "markdown",
   "metadata": {},
   "source": [
    "### Initial Estimate Error"
   ]
  },
  {
   "cell_type": "code",
   "execution_count": 6,
   "metadata": {},
   "outputs": [],
   "source": [
    "P = np.eye(dim_x, dtype=dt) * np.array([1.0, 1.0, 2.0, 2.0], dtype=dt)"
   ]
  },
  {
   "cell_type": "markdown",
   "metadata": {},
   "source": [
    "### Measurement Noise"
   ]
  },
  {
   "cell_type": "code",
   "execution_count": 7,
   "metadata": {},
   "outputs": [],
   "source": [
    "R = np.eye(dim_z, dtype=dt) * 0.01"
   ]
  },
  {
   "cell_type": "markdown",
   "metadata": {},
   "source": [
    "### Motion Noise"
   ]
  },
  {
   "cell_type": "code",
   "execution_count": 8,
   "metadata": {},
   "outputs": [],
   "source": [
    "Q = np.eye(dim_x, dtype=dt) * np.array([10.0, 10.0, 10.0, 10.0], dtype=dt)"
   ]
  },
  {
   "cell_type": "markdown",
   "metadata": {},
   "source": [
    "## Process CPU Kalman Filter\n",
    "For CPU example, each track is ran over the course of all iterations"
   ]
  },
  {
   "cell_type": "code",
   "execution_count": 9,
   "metadata": {},
   "outputs": [],
   "source": [
    "f_fpy = filterpy.kalman.KalmanFilter(dim_x=dim_x, dim_z=dim_z)\n",
    "\n",
    "for _ in range(tracks):\n",
    "    np.random.seed(1234)\n",
    "    f_fpy.x = x\n",
    "    f_fpy.F = F\n",
    "    f_fpy.H = H\n",
    "    f_fpy.P = P\n",
    "    f_fpy.R = R\n",
    "    f_fpy.Q = Q\n",
    "    \n",
    "    for _ in range(iterations):\n",
    "        f_fpy.predict()\n",
    "        z = np.random.random_sample(dim_z).astype(dt).T\n",
    "        f_fpy.update(z)"
   ]
  },
  {
   "cell_type": "markdown",
   "metadata": {},
   "source": [
    "## Process GPU Kalman Filter\n",
    "Initial data for all tracks"
   ]
  },
  {
   "cell_type": "code",
   "execution_count": 10,
   "metadata": {},
   "outputs": [],
   "source": [
    "cuS = cusignal.KalmanFilter(dim_x, dim_z, points=tracks, dtype=dt)\n",
    "\n",
    "cuS.x = cp.repeat(cp.asarray(x[cp.newaxis, :, :]), tracks, axis=0)\n",
    "cuS.F = cp.repeat(cp.asarray(F[cp.newaxis, :, :]), tracks, axis=0)\n",
    "cuS.H = cp.repeat(cp.asarray(H[cp.newaxis, :, :]), tracks, axis=0)\n",
    "cuS.P = cp.repeat(cp.asarray(P[cp.newaxis, :, :]), tracks, axis=0)\n",
    "cuS.R = cp.repeat(cp.asarray(R[cp.newaxis, :, :]), tracks, axis=0)\n",
    "cuS.Q = cp.repeat(cp.asarray(Q[cp.newaxis, :, :]), tracks, axis=0)\n",
    "\n",
    "np.random.seed(1234)"
   ]
  },
  {
   "cell_type": "code",
   "execution_count": 11,
   "metadata": {},
   "outputs": [],
   "source": [
    "for _ in range(iterations):\n",
    "    cuS.predict()\n",
    "    \n",
    "    z = np.atleast_2d(np.random.random_sample(dim_z).astype(dt)).T\n",
    "    z = np.repeat(z[np.newaxis, :, :], tracks, axis=0)\n",
    "    \n",
    "    cuS.update(z)\n",
    "    \n",
    "cp.cuda.runtime.deviceSynchronize()"
   ]
  },
  {
   "cell_type": "markdown",
   "metadata": {},
   "source": [
    "### Test Results\n",
    "We compare the first and last cuSignal estimate with the CPU version"
   ]
  },
  {
   "cell_type": "code",
   "execution_count": 12,
   "metadata": {},
   "outputs": [],
   "source": [
    "np.testing.assert_allclose(f_fpy.x, cuS.x[0, :, :].get())\n",
    "np.testing.assert_allclose(f_fpy.x, cuS.x[-1, :, :].get())"
   ]
  },
  {
   "cell_type": "code",
   "execution_count": 13,
   "metadata": {},
   "outputs": [],
   "source": [
    "np.testing.assert_allclose(f_fpy.P, cuS.P[0, :, :].get())\n",
    "np.testing.assert_allclose(f_fpy.P, cuS.P[-1, :, :].get())"
   ]
  },
  {
   "cell_type": "markdown",
   "metadata": {},
   "source": [
    "## Benchmarks"
   ]
  },
  {
   "cell_type": "code",
   "execution_count": 14,
   "metadata": {},
   "outputs": [],
   "source": [
    "iterations = 50\n",
    "tracks = 2**12"
   ]
  },
  {
   "cell_type": "code",
   "execution_count": 15,
   "metadata": {},
   "outputs": [],
   "source": [
    "f_fpy = filterpy.kalman.KalmanFilter(dim_x=dim_x, dim_z=dim_z)"
   ]
  },
  {
   "cell_type": "markdown",
   "metadata": {},
   "source": [
    "CPU version may take a few minutes to run"
   ]
  },
  {
   "cell_type": "code",
   "execution_count": 16,
   "metadata": {},
   "outputs": [
    {
     "name": "stdout",
     "output_type": "stream",
     "text": [
      "10.4 s ± 14.7 ms per loop (mean ± std. dev. of 7 runs, 1 loop each)\n"
     ]
    }
   ],
   "source": [
    "%%timeit\n",
    "for _ in range(tracks):\n",
    "    np.random.seed(1234)\n",
    "    f_fpy.x = x\n",
    "    f_fpy.F = F\n",
    "    f_fpy.H = H\n",
    "    f_fpy.P = P\n",
    "    f_fpy.R = R\n",
    "    f_fpy.Q = Q\n",
    "    \n",
    "    for i in range(iterations):\n",
    "        f_fpy.predict()\n",
    "        z = np.ones(dim_z).astype(dt).T * i\n",
    "        f_fpy.update(z)"
   ]
  },
  {
   "cell_type": "code",
   "execution_count": 17,
   "metadata": {},
   "outputs": [],
   "source": [
    "cuS = cusignal.KalmanFilter(dim_x, dim_z, points=tracks, dtype=dt)\n",
    "\n",
    "cuS.x = cp.repeat(cp.asarray(x[cp.newaxis, :, :]), tracks, axis=0)\n",
    "cuS.F = cp.repeat(cp.asarray(F[cp.newaxis, :, :]), tracks, axis=0)\n",
    "cuS.H = cp.repeat(cp.asarray(H[cp.newaxis, :, :]), tracks, axis=0)\n",
    "cuS.P = cp.repeat(cp.asarray(P[cp.newaxis, :, :]), tracks, axis=0)\n",
    "cuS.R = cp.repeat(cp.asarray(R[cp.newaxis, :, :]), tracks, axis=0)\n",
    "cuS.Q = cp.repeat(cp.asarray(Q[cp.newaxis, :, :]), tracks, axis=0)\n",
    "\n",
    "np.random.seed(1234)"
   ]
  },
  {
   "cell_type": "code",
   "execution_count": 18,
   "metadata": {},
   "outputs": [
    {
     "name": "stdout",
     "output_type": "stream",
     "text": [
      "4.99 ms ± 36.2 µs per loop (mean ± std. dev. of 7 runs, 100 loops each)\n"
     ]
    }
   ],
   "source": [
    "%%timeit\n",
    "for i in range(iterations):\n",
    "    cuS.predict()\n",
    "    \n",
    "    z = np.atleast_2d(np.ones(dim_z).astype(dt)).T * i\n",
    "    z = np.repeat(z[np.newaxis, :, :], tracks, axis=0)\n",
    "    \n",
    "    cuS.update(z)\n",
    "    \n",
    "cp.cuda.runtime.deviceSynchronize()"
   ]
  },
  {
   "cell_type": "code",
   "execution_count": 19,
   "metadata": {},
   "outputs": [],
   "source": [
    "np.testing.assert_allclose(f_fpy.x, cuS.x[0, :, :].get())\n",
    "np.testing.assert_allclose(f_fpy.x, cuS.x[-1, :, :].get())"
   ]
  },
  {
   "cell_type": "code",
   "execution_count": 20,
   "metadata": {},
   "outputs": [],
   "source": [
    "np.testing.assert_allclose(f_fpy.P, cuS.P[0, :, :].get())\n",
    "np.testing.assert_allclose(f_fpy.P, cuS.P[-1, :, :].get())"
   ]
  }
 ],
 "metadata": {
  "kernelspec": {
   "display_name": "Python 3",
   "language": "python",
   "name": "python3"
  },
  "language_info": {
   "codemirror_mode": {
    "name": "ipython",
    "version": 3
   },
   "file_extension": ".py",
   "mimetype": "text/x-python",
   "name": "python",
   "nbconvert_exporter": "python",
   "pygments_lexer": "ipython3",
   "version": "3.8.8"
  }
 },
 "nbformat": 4,
 "nbformat_minor": 4
}
